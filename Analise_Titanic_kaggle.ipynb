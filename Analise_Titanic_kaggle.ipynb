{
  "nbformat": 4,
  "nbformat_minor": 0,
  "metadata": {
    "colab": {
      "private_outputs": true,
      "provenance": [],
      "mount_file_id": "15Hm-XklwbikPXxNP0f3tYexKBR7KYz_j",
      "authorship_tag": "ABX9TyPfCJF8UjrRQ7A5QIaK28h5",
      "include_colab_link": true
    },
    "kernelspec": {
      "name": "python3",
      "display_name": "Python 3"
    },
    "language_info": {
      "name": "python"
    }
  },
  "cells": [
    {
      "cell_type": "markdown",
      "metadata": {
        "id": "view-in-github",
        "colab_type": "text"
      },
      "source": [
        "<a href=\"https://colab.research.google.com/github/jrleite-dev/jrleite-dev/blob/main/Analise_Titanic_kaggle.ipynb\" target=\"_parent\"><img src=\"https://colab.research.google.com/assets/colab-badge.svg\" alt=\"Open In Colab\"/></a>"
      ]
    },
    {
      "cell_type": "code",
      "execution_count": null,
      "metadata": {
        "id": "ceUfa24cNKuM"
      },
      "outputs": [],
      "source": [
        "# Importando as biblioteca pandas\n",
        "import pandas as pd\n"
      ]
    },
    {
      "cell_type": "code",
      "source": [
        "base = pd.read_csv('/content/Titanic-Dataset.csv')"
      ],
      "metadata": {
        "id": "-8YowIgWNdfI"
      },
      "execution_count": null,
      "outputs": []
    },
    {
      "cell_type": "code",
      "source": [
        "# Abrindo a planilha de dados\n",
        "display(base)"
      ],
      "metadata": {
        "id": "08kji-DJNqnE"
      },
      "execution_count": null,
      "outputs": []
    },
    {
      "cell_type": "code",
      "source": [
        "# Visualizando as 5 primeiras linhas do dataframe\n",
        "base.head()"
      ],
      "metadata": {
        "id": "iZl3y1w3Nqqi"
      },
      "execution_count": null,
      "outputs": []
    },
    {
      "cell_type": "code",
      "source": [
        "# Visualizando as 5 últimas linhas do dataframe\n",
        "base.tail()"
      ],
      "metadata": {
        "id": "9tcr30LnNqvY"
      },
      "execution_count": null,
      "outputs": []
    },
    {
      "cell_type": "code",
      "source": [
        "#Tamanho da base (numero de linhas e colunas)\n",
        "base.shape"
      ],
      "metadata": {
        "id": "vFVcyewrNqyQ"
      },
      "execution_count": null,
      "outputs": []
    },
    {
      "cell_type": "code",
      "source": [
        "# visualizando as primeiras e últimas linhas e tamanho da base juntas\n",
        "display(base)"
      ],
      "metadata": {
        "id": "Gabm9e9KNq1v"
      },
      "execution_count": null,
      "outputs": []
    },
    {
      "cell_type": "code",
      "source": [
        "# Mostrando  somente o tipo dos dados\n",
        "base.dtypes"
      ],
      "metadata": {
        "id": "MR4s47amQNGk"
      },
      "execution_count": null,
      "outputs": []
    },
    {
      "cell_type": "code",
      "source": [
        "# # Mostrando  os tipo dos dados e valores vazios\n",
        "base.info()"
      ],
      "metadata": {
        "id": "IJ7YSSWKQNJj"
      },
      "execution_count": null,
      "outputs": []
    },
    {
      "cell_type": "code",
      "source": [
        "# Contando os valores vazios\n",
        "base.isnull()"
      ],
      "metadata": {
        "id": "jozDEnoPQNMa"
      },
      "execution_count": null,
      "outputs": []
    },
    {
      "cell_type": "code",
      "source": [
        "# somando valores vazios por coluna\n",
        "base.isnull().sum()"
      ],
      "metadata": {
        "id": "srD23pmGQNPJ"
      },
      "execution_count": null,
      "outputs": []
    },
    {
      "cell_type": "code",
      "source": [
        "# Trazendo todo o resumo estatistico da base\n",
        "base.describe()"
      ],
      "metadata": {
        "id": "AB8vlmBhQNR8"
      },
      "execution_count": null,
      "outputs": []
    },
    {
      "cell_type": "code",
      "source": [
        "# Analisar uma coluna especifica\n",
        "base['Survived'].sum()"
      ],
      "metadata": {
        "id": "Os9apthoTcK0"
      },
      "execution_count": null,
      "outputs": []
    },
    {
      "cell_type": "code",
      "source": [
        "# Analisar masi de uma coluna especifica\n",
        "base[['Survived', 'Sex','Age']]"
      ],
      "metadata": {
        "id": "HH9CRd4iTcRF"
      },
      "execution_count": null,
      "outputs": []
    },
    {
      "cell_type": "code",
      "source": [
        "# Voltando a base para analisar linhas\n",
        "base.head()"
      ],
      "metadata": {
        "id": "B7_h82sMTcT-"
      },
      "execution_count": null,
      "outputs": []
    },
    {
      "cell_type": "code",
      "source": [
        "# Verificando clientes que pagaram mais de 100 libras\n",
        "base[base.Fare > 100]"
      ],
      "metadata": {
        "id": "uV5hr5lHTcWg"
      },
      "execution_count": null,
      "outputs": []
    },
    {
      "cell_type": "code",
      "source": [
        "# Verificando clientes que pagaram menos de 5 libras\n",
        "base[base.Fare < 5]"
      ],
      "metadata": {
        "id": "QPRVFyLdTcZM"
      },
      "execution_count": null,
      "outputs": []
    },
    {
      "cell_type": "code",
      "source": [
        "# Verificando se alguém viajou com esposa e filhos\n",
        "base[(base.Parch > 1) &(base.SibSp > 1)]"
      ],
      "metadata": {
        "id": "s9zngurSTcbt"
      },
      "execution_count": null,
      "outputs": []
    },
    {
      "cell_type": "code",
      "source": [
        "# Gerando uma visulaização grafica\n",
        "import matplotlib.pyplot as plt"
      ],
      "metadata": {
        "id": "AjlRGbSLTced"
      },
      "execution_count": null,
      "outputs": []
    },
    {
      "cell_type": "code",
      "source": [
        "# Criando um histograma simples da coluna Fare\n",
        "base.Fare.hist(bins=20);"
      ],
      "metadata": {
        "id": "O8qiR2EXZJWz"
      },
      "execution_count": null,
      "outputs": []
    },
    {
      "cell_type": "code",
      "source": [
        "# Grafico de barras da coluna Pclass\n",
        "base.Pclass.value_counts().plot.bar();\n"
      ],
      "metadata": {
        "id": "ZVjJDJpYZJZf"
      },
      "execution_count": null,
      "outputs": []
    },
    {
      "cell_type": "code",
      "source": [
        "# gerando grafico de densidade\n",
        "base['Fare'].plot.kde();"
      ],
      "metadata": {
        "id": "5UAebA8pZJcT"
      },
      "execution_count": null,
      "outputs": []
    },
    {
      "cell_type": "code",
      "source": [],
      "metadata": {
        "id": "jsLMkRWDZJfs"
      },
      "execution_count": null,
      "outputs": []
    },
    {
      "cell_type": "code",
      "source": [],
      "metadata": {
        "id": "odss8w5RZJmZ"
      },
      "execution_count": null,
      "outputs": []
    },
    {
      "cell_type": "code",
      "source": [],
      "metadata": {
        "id": "m2KhFzGGZJo5"
      },
      "execution_count": null,
      "outputs": []
    },
    {
      "cell_type": "code",
      "source": [],
      "metadata": {
        "id": "f-kiPgcTZJsd"
      },
      "execution_count": null,
      "outputs": []
    },
    {
      "cell_type": "code",
      "source": [],
      "metadata": {
        "id": "hnBWZZMsTchR"
      },
      "execution_count": null,
      "outputs": []
    },
    {
      "cell_type": "code",
      "source": [],
      "metadata": {
        "id": "yXehKnJSTcku"
      },
      "execution_count": null,
      "outputs": []
    },
    {
      "cell_type": "code",
      "source": [],
      "metadata": {
        "id": "8m-ZSLNfQNUz"
      },
      "execution_count": null,
      "outputs": []
    },
    {
      "cell_type": "code",
      "source": [],
      "metadata": {
        "id": "dUucYQtoQNXP"
      },
      "execution_count": null,
      "outputs": []
    },
    {
      "cell_type": "code",
      "source": [],
      "metadata": {
        "id": "BNC7ghYbQNam"
      },
      "execution_count": null,
      "outputs": []
    }
  ]
}